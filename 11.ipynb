{
  "nbformat": 4,
  "nbformat_minor": 0,
  "metadata": {
    "colab": {
      "provenance": [],
      "authorship_tag": "ABX9TyOVUZ9YwJDQFFABc4UFwYMY",
      "include_colab_link": true
    },
    "kernelspec": {
      "name": "python3",
      "display_name": "Python 3"
    },
    "language_info": {
      "name": "python"
    }
  },
  "cells": [
    {
      "cell_type": "markdown",
      "metadata": {
        "id": "view-in-github",
        "colab_type": "text"
      },
      "source": [
        "<a href=\"https://colab.research.google.com/github/linamarwabelkilani/modelisation-hydrologique/blob/main/11.ipynb\" target=\"_parent\"><img src=\"https://colab.research.google.com/assets/colab-badge.svg\" alt=\"Open In Colab\"/></a>"
      ]
    },
    {
      "cell_type": "code",
      "execution_count": 12,
      "metadata": {
        "colab": {
          "base_uri": "https://localhost:8080/"
        },
        "id": "Q9Y77PQUAuvW",
        "outputId": "3c6e775a-5297-4719-ddcc-768aba2430f0"
      },
      "outputs": [
        {
          "output_type": "stream",
          "name": "stderr",
          "text": [
            "<ipython-input-12-b582b9769852>:3: DtypeWarning: Columns (1,2,3,4,6,7,8,9,10,11,12,13,14,15,16,17,18,19,20,21,22,23,24,25,26,27,28,29,30,31,32,33,34,35,36,37,38,39,40,41,42,43,44,45,46,49,50,51,52,53,54,55,56,57,58,60,61,62,63,64,65,66,67,68,70,71,72,73,74,75,78,79,80,81,82,83,84,85,86,88,89,90,91,92,93,94,95,96,97,98,100,101,102,103,104,105,106,107,109,111,112,113,115,116,117,118,120,121,122,123,124,126) have mixed types. Specify dtype option on import or set low_memory=False.\n",
            "  df = pd.read_csv(data_url, on_bad_lines='skip',sep=\";\")\n"
          ]
        }
      ],
      "source": [
        "import pandas as pd\n",
        "data_url = \"https://raw.githubusercontent.com/linamarwabelkilani/modelisation-hydrologique/main/PluviometrieHVM1900_2015.csv\"\n",
        "df = pd.read_csv(data_url, on_bad_lines='skip',sep=\";\")\n",
        "#les 3 dernier ligne sont vide\n",
        "df.drop(df.tail(3).index,inplace=True) # drop last n rows\n",
        "#df"
      ]
    },
    {
      "cell_type": "code",
      "execution_count": 13,
      "metadata": {
        "colab": {
          "base_uri": "https://localhost:8080/",
          "height": 516
        },
        "id": "mYzloFopGkXc",
        "outputId": "814fa946-665a-4c9e-f22e-3f1187d0cb69"
      },
      "outputs": [
        {
          "output_type": "stream",
          "name": "stderr",
          "text": [
            "<ipython-input-13-c6f9d8100f73>:13: FutureWarning: iteritems is deprecated and will be removed in a future version. Use .items instead.\n",
            "  for (columnName, columnData) in df.iteritems():\n",
            "<ipython-input-13-c6f9d8100f73>:20: FutureWarning: The frame.append method is deprecated and will be removed from pandas in a future version. Use pandas.concat instead.\n",
            "  data=data.append(data3,ignore_index=True)\n"
          ]
        },
        {
          "output_type": "execute_result",
          "data": {
            "text/plain": [
              "               Date               Station Precipitation\n",
              "0        01/01/1900  AIN BEYA OUED RHEZAL           NaN\n",
              "1        02/01/1900  AIN BEYA OUED RHEZAL           NaN\n",
              "2        03/01/1900  AIN BEYA OUED RHEZAL           NaN\n",
              "3        04/01/1900  AIN BEYA OUED RHEZAL           NaN\n",
              "4        05/01/1900  AIN BEYA OUED RHEZAL           NaN\n",
              "...             ...                   ...           ...\n",
              "5322991  27/08/2015         ZOUARINE GARE             3\n",
              "5322992  28/08/2015         ZOUARINE GARE             7\n",
              "5322993  29/08/2015         ZOUARINE GARE             0\n",
              "5322994  30/08/2015         ZOUARINE GARE             0\n",
              "5322995  31/08/2015         ZOUARINE GARE             0\n",
              "\n",
              "[5322996 rows x 3 columns]"
            ],
            "text/html": [
              "\n",
              "  <div id=\"df-d73dfb72-d433-4cc5-bd32-10e37492f302\">\n",
              "    <div class=\"colab-df-container\">\n",
              "      <div>\n",
              "<style scoped>\n",
              "    .dataframe tbody tr th:only-of-type {\n",
              "        vertical-align: middle;\n",
              "    }\n",
              "\n",
              "    .dataframe tbody tr th {\n",
              "        vertical-align: top;\n",
              "    }\n",
              "\n",
              "    .dataframe thead th {\n",
              "        text-align: right;\n",
              "    }\n",
              "</style>\n",
              "<table border=\"1\" class=\"dataframe\">\n",
              "  <thead>\n",
              "    <tr style=\"text-align: right;\">\n",
              "      <th></th>\n",
              "      <th>Date</th>\n",
              "      <th>Station</th>\n",
              "      <th>Precipitation</th>\n",
              "    </tr>\n",
              "  </thead>\n",
              "  <tbody>\n",
              "    <tr>\n",
              "      <th>0</th>\n",
              "      <td>01/01/1900</td>\n",
              "      <td>AIN BEYA OUED RHEZAL</td>\n",
              "      <td>NaN</td>\n",
              "    </tr>\n",
              "    <tr>\n",
              "      <th>1</th>\n",
              "      <td>02/01/1900</td>\n",
              "      <td>AIN BEYA OUED RHEZAL</td>\n",
              "      <td>NaN</td>\n",
              "    </tr>\n",
              "    <tr>\n",
              "      <th>2</th>\n",
              "      <td>03/01/1900</td>\n",
              "      <td>AIN BEYA OUED RHEZAL</td>\n",
              "      <td>NaN</td>\n",
              "    </tr>\n",
              "    <tr>\n",
              "      <th>3</th>\n",
              "      <td>04/01/1900</td>\n",
              "      <td>AIN BEYA OUED RHEZAL</td>\n",
              "      <td>NaN</td>\n",
              "    </tr>\n",
              "    <tr>\n",
              "      <th>4</th>\n",
              "      <td>05/01/1900</td>\n",
              "      <td>AIN BEYA OUED RHEZAL</td>\n",
              "      <td>NaN</td>\n",
              "    </tr>\n",
              "    <tr>\n",
              "      <th>...</th>\n",
              "      <td>...</td>\n",
              "      <td>...</td>\n",
              "      <td>...</td>\n",
              "    </tr>\n",
              "    <tr>\n",
              "      <th>5322991</th>\n",
              "      <td>27/08/2015</td>\n",
              "      <td>ZOUARINE GARE</td>\n",
              "      <td>3</td>\n",
              "    </tr>\n",
              "    <tr>\n",
              "      <th>5322992</th>\n",
              "      <td>28/08/2015</td>\n",
              "      <td>ZOUARINE GARE</td>\n",
              "      <td>7</td>\n",
              "    </tr>\n",
              "    <tr>\n",
              "      <th>5322993</th>\n",
              "      <td>29/08/2015</td>\n",
              "      <td>ZOUARINE GARE</td>\n",
              "      <td>0</td>\n",
              "    </tr>\n",
              "    <tr>\n",
              "      <th>5322994</th>\n",
              "      <td>30/08/2015</td>\n",
              "      <td>ZOUARINE GARE</td>\n",
              "      <td>0</td>\n",
              "    </tr>\n",
              "    <tr>\n",
              "      <th>5322995</th>\n",
              "      <td>31/08/2015</td>\n",
              "      <td>ZOUARINE GARE</td>\n",
              "      <td>0</td>\n",
              "    </tr>\n",
              "  </tbody>\n",
              "</table>\n",
              "<p>5322996 rows × 3 columns</p>\n",
              "</div>\n",
              "      <button class=\"colab-df-convert\" onclick=\"convertToInteractive('df-d73dfb72-d433-4cc5-bd32-10e37492f302')\"\n",
              "              title=\"Convert this dataframe to an interactive table.\"\n",
              "              style=\"display:none;\">\n",
              "        \n",
              "  <svg xmlns=\"http://www.w3.org/2000/svg\" height=\"24px\"viewBox=\"0 0 24 24\"\n",
              "       width=\"24px\">\n",
              "    <path d=\"M0 0h24v24H0V0z\" fill=\"none\"/>\n",
              "    <path d=\"M18.56 5.44l.94 2.06.94-2.06 2.06-.94-2.06-.94-.94-2.06-.94 2.06-2.06.94zm-11 1L8.5 8.5l.94-2.06 2.06-.94-2.06-.94L8.5 2.5l-.94 2.06-2.06.94zm10 10l.94 2.06.94-2.06 2.06-.94-2.06-.94-.94-2.06-.94 2.06-2.06.94z\"/><path d=\"M17.41 7.96l-1.37-1.37c-.4-.4-.92-.59-1.43-.59-.52 0-1.04.2-1.43.59L10.3 9.45l-7.72 7.72c-.78.78-.78 2.05 0 2.83L4 21.41c.39.39.9.59 1.41.59.51 0 1.02-.2 1.41-.59l7.78-7.78 2.81-2.81c.8-.78.8-2.07 0-2.86zM5.41 20L4 18.59l7.72-7.72 1.47 1.35L5.41 20z\"/>\n",
              "  </svg>\n",
              "      </button>\n",
              "      \n",
              "  <style>\n",
              "    .colab-df-container {\n",
              "      display:flex;\n",
              "      flex-wrap:wrap;\n",
              "      gap: 12px;\n",
              "    }\n",
              "\n",
              "    .colab-df-convert {\n",
              "      background-color: #E8F0FE;\n",
              "      border: none;\n",
              "      border-radius: 50%;\n",
              "      cursor: pointer;\n",
              "      display: none;\n",
              "      fill: #1967D2;\n",
              "      height: 32px;\n",
              "      padding: 0 0 0 0;\n",
              "      width: 32px;\n",
              "    }\n",
              "\n",
              "    .colab-df-convert:hover {\n",
              "      background-color: #E2EBFA;\n",
              "      box-shadow: 0px 1px 2px rgba(60, 64, 67, 0.3), 0px 1px 3px 1px rgba(60, 64, 67, 0.15);\n",
              "      fill: #174EA6;\n",
              "    }\n",
              "\n",
              "    [theme=dark] .colab-df-convert {\n",
              "      background-color: #3B4455;\n",
              "      fill: #D2E3FC;\n",
              "    }\n",
              "\n",
              "    [theme=dark] .colab-df-convert:hover {\n",
              "      background-color: #434B5C;\n",
              "      box-shadow: 0px 1px 3px 1px rgba(0, 0, 0, 0.15);\n",
              "      filter: drop-shadow(0px 1px 2px rgba(0, 0, 0, 0.3));\n",
              "      fill: #FFFFFF;\n",
              "    }\n",
              "  </style>\n",
              "\n",
              "      <script>\n",
              "        const buttonEl =\n",
              "          document.querySelector('#df-d73dfb72-d433-4cc5-bd32-10e37492f302 button.colab-df-convert');\n",
              "        buttonEl.style.display =\n",
              "          google.colab.kernel.accessAllowed ? 'block' : 'none';\n",
              "\n",
              "        async function convertToInteractive(key) {\n",
              "          const element = document.querySelector('#df-d73dfb72-d433-4cc5-bd32-10e37492f302');\n",
              "          const dataTable =\n",
              "            await google.colab.kernel.invokeFunction('convertToInteractive',\n",
              "                                                     [key], {});\n",
              "          if (!dataTable) return;\n",
              "\n",
              "          const docLinkHtml = 'Like what you see? Visit the ' +\n",
              "            '<a target=\"_blank\" href=https://colab.research.google.com/notebooks/data_table.ipynb>data table notebook</a>'\n",
              "            + ' to learn more about interactive tables.';\n",
              "          element.innerHTML = '';\n",
              "          dataTable['output_type'] = 'display_data';\n",
              "          await google.colab.output.renderOutput(dataTable, element);\n",
              "          const docLink = document.createElement('div');\n",
              "          docLink.innerHTML = docLinkHtml;\n",
              "          element.appendChild(docLink);\n",
              "        }\n",
              "      </script>\n",
              "    </div>\n",
              "  </div>\n",
              "  "
            ]
          },
          "metadata": {},
          "execution_count": 13
        }
      ],
      "source": [
        "#ce varibale et pour la series des dates\n",
        "date = df[\"dates\"]\n",
        "#creation d'une dataframe de 3 colum\n",
        "data = pd.DataFrame({\"Date\":[],\"Station\":[],\"Precipitation\":[]})\n",
        "data1 = pd.DataFrame({\"Date\":[],\"Station\":[],\"Precipitation\":[]})\n",
        "data3 = pd.DataFrame({\"Date\":[],\"Station\":[],\"Precipitation\":[]})\n",
        "data1[\"Date\"]= df[\"dates\"]\n",
        "#test de remplisage des données\n",
        "\n",
        "#fin test remplissage des données\n",
        "i=0\n",
        "#iteration sur la dataframe avec l'extraction des nom du station avec leur valuer\n",
        "for (columnName, columnData) in df.iteritems():\n",
        "  i=i+1\n",
        "  if i == 1 :\n",
        "    continue\n",
        "  data3[\"Date\"]=df[\"dates\"]\n",
        "  data3[\"Precipitation\"]=columnData\n",
        "  data3[\"Station\"]=data3[\"Station\"].fillna(columnName)\n",
        "  data=data.append(data3,ignore_index=True)\n",
        "  data3.drop(data3.index, inplace=True)\n",
        " # print(\"compleatin\" , i ,\"/\",127 )\n",
        "\n",
        "\n",
        "  pass\n",
        "df1=data\n",
        "df1"
      ]
    },
    {
      "cell_type": "code",
      "source": [],
      "metadata": {
        "id": "tdeB5nhuBVj5"
      },
      "execution_count": null,
      "outputs": []
    },
    {
      "cell_type": "code",
      "execution_count": 14,
      "metadata": {
        "colab": {
          "base_uri": "https://localhost:8080/"
        },
        "id": "Ju0eBYBtN5Ms",
        "outputId": "6e36e92c-50d8-4d68-d875-3fa5ae9baac1"
      },
      "outputs": [
        {
          "output_type": "stream",
          "name": "stdout",
          "text": [
            "               Date               Station Precipitation\n",
            "0        01/01/1900  AIN BEYA OUED RHEZAL           NaN\n",
            "1        02/01/1900  AIN BEYA OUED RHEZAL           NaN\n",
            "2        03/01/1900  AIN BEYA OUED RHEZAL           NaN\n",
            "3        04/01/1900  AIN BEYA OUED RHEZAL           NaN\n",
            "4        05/01/1900  AIN BEYA OUED RHEZAL           NaN\n",
            "...             ...                   ...           ...\n",
            "5322991  27/08/2015         ZOUARINE GARE           3.0\n",
            "5322992  28/08/2015         ZOUARINE GARE           7.0\n",
            "5322993  29/08/2015         ZOUARINE GARE           0.0\n",
            "5322994  30/08/2015         ZOUARINE GARE           0.0\n",
            "5322995  31/08/2015         ZOUARINE GARE           0.0\n",
            "\n",
            "[5322996 rows x 3 columns]\n"
          ]
        }
      ],
      "source": [
        "\n",
        "data = df1['Precipitation']\n",
        "df = pd.DataFrame(data)\n",
        "\n",
        "# Fonction de conversion personnalisée\n",
        "def convert_to_float(value):\n",
        "    if isinstance(value, str):\n",
        "        return float(value.replace(',', '.'))\n",
        "    else:\n",
        "        return value\n",
        "\n",
        "# Application de la conversion à la colonne\n",
        "df['Precipitation'] = df['Precipitation'].apply(convert_to_float)\n",
        "\n",
        "# Mise à jour des valeurs converties dans le DataFrame initial df1\n",
        "df1.update(df)\n",
        "\n",
        "print(df1)"
      ]
    },
    {
      "cell_type": "code",
      "source": [
        "# Vérifier s'il y a des valeurs manquantes dans la colonne \"Precipitation\"\n",
        "if df1['Precipitation'].isnull().sum() > 0:\n",
        "    print(\"Des valeurs manquantes (NaN) sont présentes dans la colonne 'Precipitation'.\")\n",
        "else:\n",
        "    print(\"Aucune valeur manquante (NaN) dans la colonne 'Precipitation'.\")\n",
        "# Calculer le nombre de valeurs manquantes (NaN) dans la colonne \"Precipitation\"\n",
        "nan_count = df1['Precipitation'].isna().sum()\n",
        "# Afficher le nombre de valeurs manquantes (NaN)\n",
        "print(f\"Nombre de valeurs manquantes (NaN) dans la colonne 'Precipitation': {nan_count}\")"
      ],
      "metadata": {
        "colab": {
          "base_uri": "https://localhost:8080/"
        },
        "id": "5wUzGXlFBgur",
        "outputId": "7d5c01c1-04dd-4e71-f8c5-ff18c9cf7384"
      },
      "execution_count": 15,
      "outputs": [
        {
          "output_type": "stream",
          "name": "stdout",
          "text": [
            "Des valeurs manquantes (NaN) sont présentes dans la colonne 'Precipitation'.\n",
            "Nombre de valeurs manquantes (NaN) dans la colonne 'Precipitation': 3219301\n"
          ]
        }
      ]
    },
    {
      "cell_type": "code",
      "execution_count": 16,
      "metadata": {
        "colab": {
          "base_uri": "https://localhost:8080/"
        },
        "id": "hhjhVejRiAgx",
        "outputId": "71dd0414-e425-407f-f41f-8bf5120221a4"
      },
      "outputs": [
        {
          "output_type": "stream",
          "name": "stdout",
          "text": [
            "               Date               Station Precipitation\n",
            "0        01/01/1900  AIN BEYA OUED RHEZAL           NaN\n",
            "1        02/01/1900  AIN BEYA OUED RHEZAL           NaN\n",
            "2        03/01/1900  AIN BEYA OUED RHEZAL           NaN\n",
            "3        04/01/1900  AIN BEYA OUED RHEZAL           NaN\n",
            "4        05/01/1900  AIN BEYA OUED RHEZAL           NaN\n",
            "...             ...                   ...           ...\n",
            "5322991  27/08/2015         ZOUARINE GARE           3.0\n",
            "5322992  28/08/2015         ZOUARINE GARE           7.0\n",
            "5322993  29/08/2015         ZOUARINE GARE           0.0\n",
            "5322994  30/08/2015         ZOUARINE GARE           0.0\n",
            "5322995  31/08/2015         ZOUARINE GARE           0.0\n",
            "\n",
            "[5322996 rows x 3 columns]\n"
          ]
        }
      ],
      "source": [
        "import numpy as np\n",
        "# Remplacer les valeurs supérieures à 300.0 par NaN\n",
        "df1['Precipitation'] = np.where(df1['Precipitation'] > 300.0, np.NaN, df1['Precipitation'])\n",
        "# Afficher le dataframe mis à jour\n",
        "print(df1)\n",
        "\n"
      ]
    },
    {
      "cell_type": "code",
      "execution_count": 17,
      "metadata": {
        "colab": {
          "base_uri": "https://localhost:8080/"
        },
        "id": "Iki1s0wllH-a",
        "outputId": "dba4863a-ef41-4074-8714-77271b3c2859"
      },
      "outputs": [
        {
          "output_type": "stream",
          "name": "stdout",
          "text": [
            "Des valeurs manquantes (NaN) sont présentes dans la colonne 'Precipitation'.\n",
            "Nombre de valeurs manquantes (NaN) dans la colonne 'Precipitation': 3219304\n"
          ]
        }
      ],
      "source": [
        "# Vérifier s'il y a des valeurs manquantes dans la colonne \"Precipitation\"\n",
        "if df1['Precipitation'].isnull().sum() > 0:\n",
        "    print(\"Des valeurs manquantes (NaN) sont présentes dans la colonne 'Precipitation'.\")\n",
        "else:\n",
        "    print(\"Aucune valeur manquante (NaN) dans la colonne 'Precipitation'.\")\n",
        "# Calculer le nombre de valeurs manquantes (NaN) dans la colonne \"Precipitation\"\n",
        "nan_count = df1['Precipitation'].isna().sum()\n",
        "\n",
        "# Afficher le nombre de valeurs manquantes (NaN)\n",
        "print(f\"Nombre de valeurs manquantes (NaN) dans la colonne 'Precipitation': {nan_count}\")\n"
      ]
    },
    {
      "cell_type": "code",
      "execution_count": 18,
      "metadata": {
        "colab": {
          "base_uri": "https://localhost:8080/"
        },
        "id": "L2bOFIf-B8jH",
        "outputId": "12a46050-3f6c-4f2e-8e68-4123688ee30e"
      },
      "outputs": [
        {
          "output_type": "stream",
          "name": "stdout",
          "text": [
            "Tous les stations ont des index identiques: True\n",
            "La valeur maximale des index est : 42245\n",
            "               Date               Station Precipitation\n",
            "0        01/01/1900  AIN BEYA OUED RHEZAL           NaN\n",
            "1        02/01/1900  AIN BEYA OUED RHEZAL           NaN\n",
            "2        03/01/1900  AIN BEYA OUED RHEZAL           NaN\n",
            "3        04/01/1900  AIN BEYA OUED RHEZAL           NaN\n",
            "4        05/01/1900  AIN BEYA OUED RHEZAL           NaN\n",
            "...             ...                   ...           ...\n",
            "5322991  27/08/2015         ZOUARINE GARE           NaN\n",
            "5322992  28/08/2015         ZOUARINE GARE           NaN\n",
            "5322993  29/08/2015         ZOUARINE GARE           NaN\n",
            "5322994  30/08/2015         ZOUARINE GARE           NaN\n",
            "5322995  31/08/2015         ZOUARINE GARE           NaN\n",
            "\n",
            "[5322996 rows x 3 columns]\n"
          ]
        }
      ],
      "source": [
        "station_groups = df1.groupby('Station')\n",
        "\n",
        "# Créer une liste pour stocker les résultats\n",
        "results = []\n",
        "index_lengths = []\n",
        "\n",
        "# Parcours des stations\n",
        "for station_name, station_data in station_groups:\n",
        "    # Réinitialiser les index\n",
        "    station_data = station_data.reset_index(drop=True)\n",
        "    # Obtenir la valeur maximale des index réinitialisés\n",
        "    max_index = station_data.index.max()\n",
        "    # Ajouter la valeur maximale des index à la liste\n",
        "    index_lengths.append(max_index + 1)  # Ajouter 1 car les index commencent à partir de 0\n",
        "\n",
        "    # Mettre à jour les valeurs dans df1\n",
        "    df1.loc[df1['Station'] == station_name, 'Precipitation'] = station_data['Precipitation']\n",
        "\n",
        "# Vérifier si tous les index ont la même longueur\n",
        "all_same_length = all(length == index_lengths[0] for length in index_lengths)\n",
        "\n",
        "# Afficher si tous les index ont la même longueur\n",
        "print(f\"Tous les stations ont des index identiques: {all_same_length}\")\n",
        "\n",
        "# Afficher la valeur maximale des index\n",
        "max_index_value = max(index_lengths) - 1  # Soustraire 1 pour obtenir la valeur maximale de l'index\n",
        "print(f\"La valeur maximale des index est : {max_index_value}\")\n",
        "\n",
        "# Afficher le dataframe mis à jour\n",
        "print(df1)\n"
      ]
    },
    {
      "cell_type": "code",
      "execution_count": 19,
      "metadata": {
        "id": "TPqzeRVWA5lU"
      },
      "outputs": [],
      "source": [
        "# Parcours des stations\n",
        "for station_name, station_data in station_groups:\n",
        "    # Compter le nombre de zéros dans la colonne 'Precipitation'\n",
        "    zero_count = (station_data['Precipitation'] == 0).sum()\n",
        "    # Calculer le pourcentage de zéros\n",
        "    zero_percentage = zero_count / len(station_data) * 100\n",
        "    # Ajouter les résultats à la liste\n",
        "    results.append((station_name, zero_percentage))\n",
        "\n",
        "# Trier les résultats par ordre croissant des pourcentages de zéros\n",
        "sorted_results = sorted(results, key=lambda x: x[1])\n",
        "\n",
        "# Afficher les stations avec les pourcentages de zéros\n",
        "#for station, percentage in sorted_results:\n",
        "    #print(f\"Station: {station} - Pourcentage de zéros: {percentage}%\")"
      ]
    },
    {
      "cell_type": "code",
      "execution_count": null,
      "metadata": {
        "colab": {
          "base_uri": "https://localhost:8080/"
        },
        "id": "ETtvYNE_q4wH",
        "outputId": "d4db5533-c587-4b5b-9adc-153cc23964d9"
      },
      "outputs": [
        {
          "output_type": "stream",
          "name": "stderr",
          "text": [
            "/usr/local/lib/python3.10/dist-packages/sklearn/preprocessing/_data.py:473: RuntimeWarning: All-NaN slice encountered\n",
            "  data_min = np.nanmin(X, axis=0)\n",
            "/usr/local/lib/python3.10/dist-packages/sklearn/preprocessing/_data.py:474: RuntimeWarning: All-NaN slice encountered\n",
            "  data_max = np.nanmax(X, axis=0)\n"
          ]
        }
      ],
      "source": [
        "import numpy as np\n",
        "import pandas as pd\n",
        "from sklearn.preprocessing import MinMaxScaler\n",
        "from keras.models import Sequential\n",
        "from keras.layers import LSTM, Dense, Dropout\n",
        "from sklearn.metrics import mean_squared_error, mean_absolute_error, r2_score\n",
        "\n",
        "# Filtrer les données pour la station \"TIBAR SM\"\n",
        "station_data = df1[df1['Station'] == \"TIBAR SM\"]\n",
        "precipitation_values = station_data['Precipitation'].values\n",
        "\n",
        "# Préparation des données d'entraînement et de test\n",
        "train_size = int(len(precipitation_values) * 0.8)\n",
        "train_data = precipitation_values[:train_size]\n",
        "test_data = precipitation_values[train_size:]\n",
        "\n",
        "# Normalisation des données entre 0 et 1\n",
        "scaler = MinMaxScaler(feature_range=(0, 1))\n",
        "scaled_train_data = scaler.fit_transform(train_data.reshape(-1, 1))\n",
        "\n",
        "# Préparation des séquences et des étiquettes\n",
        "def create_sequences(data, seq_length):\n",
        "    X = []\n",
        "    y = []\n",
        "    for i in range(len(data) - seq_length):\n",
        "        X.append(data[i:i+seq_length])\n",
        "        y.append(data[i+seq_length])\n",
        "    return np.array(X), np.array(y)\n",
        "\n",
        "# Suggestions pour les hyperparamètres\n",
        "num_layers_list = [1]  # Nombre de couches LSTM\n",
        "dropout_list = [0.2]  # Valeurs de dropout\n",
        "seq_length_list = [20]  # Longueur de la séquence temporelle\n",
        "batch_size = 32\n",
        "best_model = None\n",
        "best_mse = float('inf')\n",
        "# Boucle pour essayer différentes combinaisons d'hyperparamètres\n",
        "for num_layers in num_layers_list:\n",
        "    for dropout in dropout_list:\n",
        "        for seq_length in seq_length_list:\n",
        "            # Construction du modèle LSTM\n",
        "            model = Sequential()\n",
        "            model.add(LSTM(128, input_shape=(seq_length, 1), return_sequences=True))\n",
        "            for _ in range(num_layers - 1):\n",
        "                model.add(LSTM(64, return_sequences=True))\n",
        "                model.add(Dropout(dropout))\n",
        "            model.add(LSTM(64))\n",
        "            model.add(Dropout(dropout))\n",
        "            model.add(Dense(1))\n",
        "            model.compile(loss='mean_squared_error', optimizer='adam')\n",
        "\n",
        "            # Entraînement du modèle\n",
        "            X_train, y_train = create_sequences(scaled_train_data, seq_length)\n",
        "            model.fit(X_train, y_train, epochs=300, batch_size=batch_size, verbose=0)\n",
        "\n",
        "            # Préparation des données de test pour les prédictions\n",
        "            scaled_test_data = scaler.transform(test_data.reshape(-1, 1))\n",
        "            X_test, y_test = create_sequences(scaled_test_data, seq_length)\n",
        "\n",
        "            # Utilisation du modèle pour effectuer des prédictions\n",
        "            predictions = model.predict(X_test)\n",
        "            # Rétablissement de la mise à l'échelle des prédictions\n",
        "            predictions = scaler.inverse_transform(predictions)\n",
        "\n",
        "            # Évaluation du modèle sur les données de test\n",
        "            mse = mean_squared_error(y_test, predictions)\n",
        "            mae = mean_absolute_error(y_test, predictions)\n",
        "            r2 = r2_score(y_test, predictions)\n",
        "\n",
        "            # Affichage des résultats\n",
        "            print(\"Station: TIBAR SM\")\n",
        "            print(\"Num Layers:\", num_layers)\n",
        "            print(\"Dropout:\", dropout)\n",
        "            print(\"Seq Length:\", seq_length)\n",
        "            print(\"MSE:\", mse)\n",
        "            print(\"MAE:\", mae)\n",
        "            print(\"R^2:\", r2)\n",
        "\n",
        "            # Vérifier si le modèle actuel est le meilleur jusqu'à présent\n",
        "            if mse < best_mse:\n",
        "                best_mse = mse\n",
        "                best_model = model\n",
        "\n",
        "# Affichage des résultats du meilleur modèle\n",
        "print(\"Station: TIBAR SM\")\n",
        "print(\"Meilleur MSE:\", best_mse)\n",
        "\n",
        "# Utiliser le meilleur modèle pour les prédictions finales\n",
        "# ... (code pour les prédictions finales)"
      ]
    }
  ]
}