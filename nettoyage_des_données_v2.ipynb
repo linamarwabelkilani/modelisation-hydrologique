{
  "nbformat": 4,
  "nbformat_minor": 0,
  "metadata": {
    "colab": {
      "provenance": [],
      "include_colab_link": true
    },
    "kernelspec": {
      "name": "python3",
      "display_name": "Python 3"
    },
    "language_info": {
      "name": "python"
    }
  },
  "cells": [
    {
      "cell_type": "markdown",
      "metadata": {
        "id": "view-in-github",
        "colab_type": "text"
      },
      "source": [
        "<a href=\"https://colab.research.google.com/github/linamarwabelkilani/modelisation-hydrologique/blob/main/nettoyage_des_donn%C3%A9es_v2.ipynb\" target=\"_parent\"><img src=\"https://colab.research.google.com/assets/colab-badge.svg\" alt=\"Open In Colab\"/></a>"
      ]
    },
    {
      "cell_type": "code",
      "execution_count": 2,
      "metadata": {
        "id": "W-3Vu78GDBLR"
      },
      "outputs": [],
      "source": [
        "#importing liibrarys \n",
        "import pandas as pd\n",
        "import matplotlib.pyplot as plt\n",
        "import seaborn as sns\n",
        "import numpy as np\n",
        "from google.colab import files"
      ]
    },
    {
      "cell_type": "code",
      "source": [
        "#import dataset from github\n",
        "data_url = \"https://raw.githubusercontent.com/linamarwabelkilani/modelisation-hydrologique/main/Dataset.csv\"\n",
        "df = pd.read_csv(data_url, on_bad_lines='skip',sep=\";\")\n",
        "\n",
        "\n",
        "df['Station']=df['Station'].astype(str)\n",
        "df = df.astype({'Station':'string'})\n",
        "df = df.astype({'Date':'string'})\n",
        "df['Date'] = pd.to_datetime(df['Date'],dayfirst=True,errors='coerce')\n",
        "df = df.dropna()\n",
        "print(df.dtypes)\n",
        "#df=df.groupby(\"Date\").max(\"Precipitation\").sort_values(by=[\"Date\"]).reset_index()\n",
        "df\n"
      ],
      "metadata": {
        "colab": {
          "base_uri": "https://localhost:8080/",
          "height": 496
        },
        "id": "BTbRVm3RDp9P",
        "outputId": "65a4bce4-d346-41e1-8bd0-8b1ccf70e93f"
      },
      "execution_count": 3,
      "outputs": [
        {
          "output_type": "stream",
          "name": "stdout",
          "text": [
            "Date             datetime64[ns]\n",
            "Station                  string\n",
            "Precipitation           float64\n",
            "dtype: object\n"
          ]
        },
        {
          "output_type": "execute_result",
          "data": {
            "text/plain": [
              "              Date               Station  Precipitation\n",
              "0       1951-06-01  AIN BEYA OUED RHEZAL            0.0\n",
              "1       1951-06-02  AIN BEYA OUED RHEZAL            0.0\n",
              "2       1951-06-03  AIN BEYA OUED RHEZAL            0.0\n",
              "3       1951-06-04  AIN BEYA OUED RHEZAL            0.0\n",
              "4       1951-06-05  AIN BEYA OUED RHEZAL            0.0\n",
              "...            ...                   ...            ...\n",
              "2103688 2015-08-27         ZOUARINE GARE            3.0\n",
              "2103689 2015-08-28         ZOUARINE GARE            7.0\n",
              "2103690 2015-08-29         ZOUARINE GARE            0.0\n",
              "2103691 2015-08-30         ZOUARINE GARE            0.0\n",
              "2103692 2015-08-31         ZOUARINE GARE            0.0\n",
              "\n",
              "[2103693 rows x 3 columns]"
            ],
            "text/html": [
              "\n",
              "  <div id=\"df-5a8363bb-9e33-40d8-93f8-06f1155a736f\">\n",
              "    <div class=\"colab-df-container\">\n",
              "      <div>\n",
              "<style scoped>\n",
              "    .dataframe tbody tr th:only-of-type {\n",
              "        vertical-align: middle;\n",
              "    }\n",
              "\n",
              "    .dataframe tbody tr th {\n",
              "        vertical-align: top;\n",
              "    }\n",
              "\n",
              "    .dataframe thead th {\n",
              "        text-align: right;\n",
              "    }\n",
              "</style>\n",
              "<table border=\"1\" class=\"dataframe\">\n",
              "  <thead>\n",
              "    <tr style=\"text-align: right;\">\n",
              "      <th></th>\n",
              "      <th>Date</th>\n",
              "      <th>Station</th>\n",
              "      <th>Precipitation</th>\n",
              "    </tr>\n",
              "  </thead>\n",
              "  <tbody>\n",
              "    <tr>\n",
              "      <th>0</th>\n",
              "      <td>1951-06-01</td>\n",
              "      <td>AIN BEYA OUED RHEZAL</td>\n",
              "      <td>0.0</td>\n",
              "    </tr>\n",
              "    <tr>\n",
              "      <th>1</th>\n",
              "      <td>1951-06-02</td>\n",
              "      <td>AIN BEYA OUED RHEZAL</td>\n",
              "      <td>0.0</td>\n",
              "    </tr>\n",
              "    <tr>\n",
              "      <th>2</th>\n",
              "      <td>1951-06-03</td>\n",
              "      <td>AIN BEYA OUED RHEZAL</td>\n",
              "      <td>0.0</td>\n",
              "    </tr>\n",
              "    <tr>\n",
              "      <th>3</th>\n",
              "      <td>1951-06-04</td>\n",
              "      <td>AIN BEYA OUED RHEZAL</td>\n",
              "      <td>0.0</td>\n",
              "    </tr>\n",
              "    <tr>\n",
              "      <th>4</th>\n",
              "      <td>1951-06-05</td>\n",
              "      <td>AIN BEYA OUED RHEZAL</td>\n",
              "      <td>0.0</td>\n",
              "    </tr>\n",
              "    <tr>\n",
              "      <th>...</th>\n",
              "      <td>...</td>\n",
              "      <td>...</td>\n",
              "      <td>...</td>\n",
              "    </tr>\n",
              "    <tr>\n",
              "      <th>2103688</th>\n",
              "      <td>2015-08-27</td>\n",
              "      <td>ZOUARINE GARE</td>\n",
              "      <td>3.0</td>\n",
              "    </tr>\n",
              "    <tr>\n",
              "      <th>2103689</th>\n",
              "      <td>2015-08-28</td>\n",
              "      <td>ZOUARINE GARE</td>\n",
              "      <td>7.0</td>\n",
              "    </tr>\n",
              "    <tr>\n",
              "      <th>2103690</th>\n",
              "      <td>2015-08-29</td>\n",
              "      <td>ZOUARINE GARE</td>\n",
              "      <td>0.0</td>\n",
              "    </tr>\n",
              "    <tr>\n",
              "      <th>2103691</th>\n",
              "      <td>2015-08-30</td>\n",
              "      <td>ZOUARINE GARE</td>\n",
              "      <td>0.0</td>\n",
              "    </tr>\n",
              "    <tr>\n",
              "      <th>2103692</th>\n",
              "      <td>2015-08-31</td>\n",
              "      <td>ZOUARINE GARE</td>\n",
              "      <td>0.0</td>\n",
              "    </tr>\n",
              "  </tbody>\n",
              "</table>\n",
              "<p>2103693 rows × 3 columns</p>\n",
              "</div>\n",
              "      <button class=\"colab-df-convert\" onclick=\"convertToInteractive('df-5a8363bb-9e33-40d8-93f8-06f1155a736f')\"\n",
              "              title=\"Convert this dataframe to an interactive table.\"\n",
              "              style=\"display:none;\">\n",
              "        \n",
              "  <svg xmlns=\"http://www.w3.org/2000/svg\" height=\"24px\"viewBox=\"0 0 24 24\"\n",
              "       width=\"24px\">\n",
              "    <path d=\"M0 0h24v24H0V0z\" fill=\"none\"/>\n",
              "    <path d=\"M18.56 5.44l.94 2.06.94-2.06 2.06-.94-2.06-.94-.94-2.06-.94 2.06-2.06.94zm-11 1L8.5 8.5l.94-2.06 2.06-.94-2.06-.94L8.5 2.5l-.94 2.06-2.06.94zm10 10l.94 2.06.94-2.06 2.06-.94-2.06-.94-.94-2.06-.94 2.06-2.06.94z\"/><path d=\"M17.41 7.96l-1.37-1.37c-.4-.4-.92-.59-1.43-.59-.52 0-1.04.2-1.43.59L10.3 9.45l-7.72 7.72c-.78.78-.78 2.05 0 2.83L4 21.41c.39.39.9.59 1.41.59.51 0 1.02-.2 1.41-.59l7.78-7.78 2.81-2.81c.8-.78.8-2.07 0-2.86zM5.41 20L4 18.59l7.72-7.72 1.47 1.35L5.41 20z\"/>\n",
              "  </svg>\n",
              "      </button>\n",
              "      \n",
              "  <style>\n",
              "    .colab-df-container {\n",
              "      display:flex;\n",
              "      flex-wrap:wrap;\n",
              "      gap: 12px;\n",
              "    }\n",
              "\n",
              "    .colab-df-convert {\n",
              "      background-color: #E8F0FE;\n",
              "      border: none;\n",
              "      border-radius: 50%;\n",
              "      cursor: pointer;\n",
              "      display: none;\n",
              "      fill: #1967D2;\n",
              "      height: 32px;\n",
              "      padding: 0 0 0 0;\n",
              "      width: 32px;\n",
              "    }\n",
              "\n",
              "    .colab-df-convert:hover {\n",
              "      background-color: #E2EBFA;\n",
              "      box-shadow: 0px 1px 2px rgba(60, 64, 67, 0.3), 0px 1px 3px 1px rgba(60, 64, 67, 0.15);\n",
              "      fill: #174EA6;\n",
              "    }\n",
              "\n",
              "    [theme=dark] .colab-df-convert {\n",
              "      background-color: #3B4455;\n",
              "      fill: #D2E3FC;\n",
              "    }\n",
              "\n",
              "    [theme=dark] .colab-df-convert:hover {\n",
              "      background-color: #434B5C;\n",
              "      box-shadow: 0px 1px 3px 1px rgba(0, 0, 0, 0.15);\n",
              "      filter: drop-shadow(0px 1px 2px rgba(0, 0, 0, 0.3));\n",
              "      fill: #FFFFFF;\n",
              "    }\n",
              "  </style>\n",
              "\n",
              "      <script>\n",
              "        const buttonEl =\n",
              "          document.querySelector('#df-5a8363bb-9e33-40d8-93f8-06f1155a736f button.colab-df-convert');\n",
              "        buttonEl.style.display =\n",
              "          google.colab.kernel.accessAllowed ? 'block' : 'none';\n",
              "\n",
              "        async function convertToInteractive(key) {\n",
              "          const element = document.querySelector('#df-5a8363bb-9e33-40d8-93f8-06f1155a736f');\n",
              "          const dataTable =\n",
              "            await google.colab.kernel.invokeFunction('convertToInteractive',\n",
              "                                                     [key], {});\n",
              "          if (!dataTable) return;\n",
              "\n",
              "          const docLinkHtml = 'Like what you see? Visit the ' +\n",
              "            '<a target=\"_blank\" href=https://colab.research.google.com/notebooks/data_table.ipynb>data table notebook</a>'\n",
              "            + ' to learn more about interactive tables.';\n",
              "          element.innerHTML = '';\n",
              "          dataTable['output_type'] = 'display_data';\n",
              "          await google.colab.output.renderOutput(dataTable, element);\n",
              "          const docLink = document.createElement('div');\n",
              "          docLink.innerHTML = docLinkHtml;\n",
              "          element.appendChild(docLink);\n",
              "        }\n",
              "      </script>\n",
              "    </div>\n",
              "  </div>\n",
              "  "
            ]
          },
          "metadata": {},
          "execution_count": 3
        }
      ]
    },
    {
      "cell_type": "code",
      "source": [
        "for i in range(len(df.Precipitation)):\n",
        "  if isinstance(df.Precipitation[i], float) and df.Precipitation[i] > 300:\n",
        "    df.Precipitation[i] = None\n",
        "\n",
        "print(df.Precipitation)"
      ],
      "metadata": {
        "id": "mGcVV9fdEeqQ",
        "colab": {
          "base_uri": "https://localhost:8080/"
        },
        "outputId": "c987b38b-6e0d-4393-fda4-b0a4632008e8"
      },
      "execution_count": 5,
      "outputs": [
        {
          "output_type": "stream",
          "name": "stderr",
          "text": [
            "<ipython-input-5-824cbc09f692>:3: SettingWithCopyWarning: \n",
            "A value is trying to be set on a copy of a slice from a DataFrame\n",
            "\n",
            "See the caveats in the documentation: https://pandas.pydata.org/pandas-docs/stable/user_guide/indexing.html#returning-a-view-versus-a-copy\n",
            "  df.Precipitation[i] = None\n"
          ]
        },
        {
          "output_type": "stream",
          "name": "stdout",
          "text": [
            "0          0.0\n",
            "1          0.0\n",
            "2          0.0\n",
            "3          0.0\n",
            "4          0.0\n",
            "          ... \n",
            "2103688    3.0\n",
            "2103689    7.0\n",
            "2103690    0.0\n",
            "2103691    0.0\n",
            "2103692    0.0\n",
            "Name: Precipitation, Length: 2103693, dtype: float64\n"
          ]
        }
      ]
    },
    {
      "cell_type": "code",
      "source": [
        "!pip install --upgrade climada\n",
        "import climada\n",
        "from climada.util.constants import SECONDS_PER_DAY\n",
        "from climada.engine import Impact\n",
        "\n",
        "from climada.entity import Exposures\n",
        "from climada.hazard import Hazard\n",
        "\n",
        "from climada.util.mask import poly2mask\n",
        "\n",
        "from climada.entity.tag import Tag\n",
        "\n",
        "from climada.hazard import climate_generator\n",
        "from climate_generator import ClimateGenerator # example climate generator library\n",
        "\n",
        "# load time series data\n",
        "df = pd.read_csv('precipitation_data.csv', index_col='date')\n",
        "\n",
        "# identify missing values\n",
        "missing_vals = df[df.isna().any(axis=1)].index\n",
        "\n",
        "# create climate generator object\n",
        "cg = ClimateGenerator()\n",
        "\n",
        "# generate synthetic time series of precipitation\n",
        "synthetic_ts = cg.generate_precipitation(start_date=df.index.min(), end_date=df.index.max())\n",
        "\n",
        "# replace missing values with values from synthetic time series\n",
        "for index in missing_vals:\n",
        "    df.loc[index, 'precipitation'] = synthetic_ts.loc[index, 'precipitation']"
      ],
      "metadata": {
        "colab": {
          "base_uri": "https://localhost:8080/",
          "height": 1000
        },
        "id": "9klgWC9COmH9",
        "outputId": "85c0614f-f9d0-4f79-b11a-ed947988d9f8"
      },
      "execution_count": 11,
      "outputs": [
        {
          "output_type": "stream",
          "name": "stdout",
          "text": [
            "Looking in indexes: https://pypi.org/simple, https://us-python.pkg.dev/colab-wheels/public/simple/\n",
            "Requirement already satisfied: climada in /usr/local/lib/python3.9/dist-packages (3.3.2)\n",
            "Requirement already satisfied: xlrd in /usr/local/lib/python3.9/dist-packages (from climada) (2.0.1)\n",
            "Requirement already satisfied: cfgrib in /usr/local/lib/python3.9/dist-packages (from climada) (0.9.10.3)\n",
            "Requirement already satisfied: peewee in /usr/local/lib/python3.9/dist-packages (from climada) (3.16.0)\n",
            "Requirement already satisfied: deprecation in /usr/local/lib/python3.9/dist-packages (from climada) (2.1.0)\n",
            "Requirement already satisfied: overpy in /usr/local/lib/python3.9/dist-packages (from climada) (0.6)\n",
            "Requirement already satisfied: tqdm in /usr/local/lib/python3.9/dist-packages (from climada) (4.65.0)\n",
            "Requirement already satisfied: xlsxwriter in /usr/local/lib/python3.9/dist-packages (from climada) (3.0.9)\n",
            "Requirement already satisfied: netcdf4 in /usr/local/lib/python3.9/dist-packages (from climada) (1.6.3)\n",
            "Requirement already satisfied: pillow in /usr/local/lib/python3.9/dist-packages (from climada) (8.4.0)\n",
            "Requirement already satisfied: pandas-datareader in /usr/local/lib/python3.9/dist-packages (from climada) (0.10.0)\n",
            "Requirement already satisfied: xarray in /usr/local/lib/python3.9/dist-packages (from climada) (2022.12.0)\n",
            "Requirement already satisfied: statsmodels in /usr/local/lib/python3.9/dist-packages (from climada) (0.13.5)\n",
            "Requirement already satisfied: bottleneck in /usr/local/lib/python3.9/dist-packages (from climada) (1.3.7)\n",
            "Requirement already satisfied: numba in /usr/local/lib/python3.9/dist-packages (from climada) (0.56.4)\n",
            "Requirement already satisfied: pycountry in /usr/local/lib/python3.9/dist-packages (from climada) (22.3.5)\n",
            "Requirement already satisfied: tables in /usr/local/lib/python3.9/dist-packages (from climada) (3.7.0)\n",
            "Requirement already satisfied: geopandas in /usr/local/lib/python3.9/dist-packages (from climada) (0.12.2)\n",
            "Requirement already satisfied: xmlrunner in /usr/local/lib/python3.9/dist-packages (from climada) (1.7.7)\n",
            "Requirement already satisfied: matplotlib in /usr/local/lib/python3.9/dist-packages (from climada) (3.7.1)\n",
            "Requirement already satisfied: rasterio in /usr/local/lib/python3.9/dist-packages (from climada) (1.3.6)\n",
            "Requirement already satisfied: cartopy in /usr/local/lib/python3.9/dist-packages (from climada) (0.21.1)\n",
            "Requirement already satisfied: pint in /usr/local/lib/python3.9/dist-packages (from climada) (0.20.1)\n",
            "Requirement already satisfied: salib in /usr/local/lib/python3.9/dist-packages (from climada) (1.4.7)\n",
            "Requirement already satisfied: pathos in /usr/local/lib/python3.9/dist-packages (from climada) (0.3.0)\n",
            "Requirement already satisfied: contextily in /usr/local/lib/python3.9/dist-packages (from climada) (1.3.0)\n",
            "Requirement already satisfied: haversine in /usr/local/lib/python3.9/dist-packages (from climada) (2.8.0)\n",
            "Requirement already satisfied: dask in /usr/local/lib/python3.9/dist-packages (from climada) (2022.12.1)\n",
            "Requirement already satisfied: sparse in /usr/local/lib/python3.9/dist-packages (from climada) (0.14.0)\n",
            "Requirement already satisfied: pandas in /usr/local/lib/python3.9/dist-packages (from climada) (1.4.4)\n",
            "Requirement already satisfied: scikit-learn in /usr/local/lib/python3.9/dist-packages (from climada) (1.2.2)\n",
            "Requirement already satisfied: tabulate in /usr/local/lib/python3.9/dist-packages (from climada) (0.8.10)\n",
            "Requirement already satisfied: h5py in /usr/local/lib/python3.9/dist-packages (from climada) (3.8.0)\n",
            "Requirement already satisfied: numpy in /usr/local/lib/python3.9/dist-packages (from bottleneck->climada) (1.22.4)\n",
            "Requirement already satisfied: shapely>=1.6.4 in /usr/local/lib/python3.9/dist-packages (from cartopy->climada) (2.0.1)\n",
            "Requirement already satisfied: pyshp>=2.1 in /usr/local/lib/python3.9/dist-packages (from cartopy->climada) (2.3.1)\n",
            "Requirement already satisfied: pyproj>=3.0.0 in /usr/local/lib/python3.9/dist-packages (from cartopy->climada) (3.4.1)\n",
            "Requirement already satisfied: packaging>=20.0 in /usr/local/lib/python3.9/dist-packages (from matplotlib->climada) (23.0)\n",
            "Requirement already satisfied: contourpy>=1.0.1 in /usr/local/lib/python3.9/dist-packages (from matplotlib->climada) (1.0.7)\n",
            "Requirement already satisfied: python-dateutil>=2.7 in /usr/local/lib/python3.9/dist-packages (from matplotlib->climada) (2.8.2)\n",
            "Requirement already satisfied: importlib-resources>=3.2.0 in /usr/local/lib/python3.9/dist-packages (from matplotlib->climada) (5.12.0)\n",
            "Requirement already satisfied: pyparsing>=2.3.1 in /usr/local/lib/python3.9/dist-packages (from matplotlib->climada) (3.0.9)\n",
            "Requirement already satisfied: fonttools>=4.22.0 in /usr/local/lib/python3.9/dist-packages (from matplotlib->climada) (4.39.2)\n",
            "Requirement already satisfied: cycler>=0.10 in /usr/local/lib/python3.9/dist-packages (from matplotlib->climada) (0.11.0)\n",
            "Requirement already satisfied: kiwisolver>=1.0.1 in /usr/local/lib/python3.9/dist-packages (from matplotlib->climada) (1.4.4)\n",
            "Requirement already satisfied: attrs>=19.2 in /usr/local/lib/python3.9/dist-packages (from cfgrib->climada) (22.2.0)\n",
            "Requirement already satisfied: eccodes>=0.9.8 in /usr/local/lib/python3.9/dist-packages (from cfgrib->climada) (1.5.1)\n",
            "Requirement already satisfied: click in /usr/local/lib/python3.9/dist-packages (from cfgrib->climada) (8.1.3)\n",
            "Requirement already satisfied: xyzservices in /usr/local/lib/python3.9/dist-packages (from contextily->climada) (2023.2.0)\n",
            "Requirement already satisfied: mercantile in /usr/local/lib/python3.9/dist-packages (from contextily->climada) (1.2.1)\n",
            "Requirement already satisfied: joblib in /usr/local/lib/python3.9/dist-packages (from contextily->climada) (1.1.1)\n",
            "Requirement already satisfied: geopy in /usr/local/lib/python3.9/dist-packages (from contextily->climada) (2.3.0)\n",
            "Requirement already satisfied: requests in /usr/local/lib/python3.9/dist-packages (from contextily->climada) (2.27.1)\n",
            "Requirement already satisfied: cloudpickle>=1.1.1 in /usr/local/lib/python3.9/dist-packages (from dask->climada) (2.2.1)\n",
            "Requirement already satisfied: partd>=0.3.10 in /usr/local/lib/python3.9/dist-packages (from dask->climada) (1.3.0)\n",
            "Requirement already satisfied: pyyaml>=5.3.1 in /usr/local/lib/python3.9/dist-packages (from dask->climada) (6.0)\n",
            "Requirement already satisfied: fsspec>=0.6.0 in /usr/local/lib/python3.9/dist-packages (from dask->climada) (2023.3.0)\n",
            "Requirement already satisfied: toolz>=0.8.2 in /usr/local/lib/python3.9/dist-packages (from dask->climada) (0.12.0)\n",
            "Requirement already satisfied: fiona>=1.8 in /usr/local/lib/python3.9/dist-packages (from geopandas->climada) (1.9.2)\n",
            "Requirement already satisfied: pytz>=2020.1 in /usr/local/lib/python3.9/dist-packages (from pandas->climada) (2022.7.1)\n",
            "Requirement already satisfied: cftime in /usr/local/lib/python3.9/dist-packages (from netcdf4->climada) (1.6.2)\n",
            "Requirement already satisfied: setuptools in /usr/local/lib/python3.9/dist-packages (from numba->climada) (67.6.0)\n",
            "Requirement already satisfied: llvmlite<0.40,>=0.39.0dev0 in /usr/local/lib/python3.9/dist-packages (from numba->climada) (0.39.1)\n",
            "Requirement already satisfied: lxml in /usr/local/lib/python3.9/dist-packages (from pandas-datareader->climada) (4.9.2)\n",
            "Requirement already satisfied: dill>=0.3.6 in /usr/local/lib/python3.9/dist-packages (from pathos->climada) (0.3.6)\n",
            "Requirement already satisfied: multiprocess>=0.70.14 in /usr/local/lib/python3.9/dist-packages (from pathos->climada) (0.70.14)\n",
            "Requirement already satisfied: ppft>=1.7.6.6 in /usr/local/lib/python3.9/dist-packages (from pathos->climada) (1.7.6.6)\n",
            "Requirement already satisfied: pox>=0.3.2 in /usr/local/lib/python3.9/dist-packages (from pathos->climada) (0.3.2)\n",
            "Requirement already satisfied: click-plugins in /usr/local/lib/python3.9/dist-packages (from rasterio->climada) (1.1.1)\n",
            "Requirement already satisfied: snuggs>=1.4.1 in /usr/local/lib/python3.9/dist-packages (from rasterio->climada) (1.4.7)\n",
            "Requirement already satisfied: certifi in /usr/local/lib/python3.9/dist-packages (from rasterio->climada) (2022.12.7)\n",
            "Requirement already satisfied: cligj>=0.5 in /usr/local/lib/python3.9/dist-packages (from rasterio->climada) (0.7.2)\n",
            "Requirement already satisfied: affine in /usr/local/lib/python3.9/dist-packages (from rasterio->climada) (2.4.0)\n",
            "Requirement already satisfied: scipy>=1.7.3 in /usr/local/lib/python3.9/dist-packages (from salib->climada) (1.10.1)\n",
            "Requirement already satisfied: threadpoolctl>=2.0.0 in /usr/local/lib/python3.9/dist-packages (from scikit-learn->climada) (3.1.0)\n",
            "Requirement already satisfied: patsy>=0.5.2 in /usr/local/lib/python3.9/dist-packages (from statsmodels->climada) (0.5.3)\n",
            "Requirement already satisfied: numexpr>=2.6.2 in /usr/local/lib/python3.9/dist-packages (from tables->climada) (2.8.4)\n",
            "Requirement already satisfied: cffi in /usr/local/lib/python3.9/dist-packages (from eccodes>=0.9.8->cfgrib->climada) (1.15.1)\n",
            "Requirement already satisfied: findlibs in /usr/local/lib/python3.9/dist-packages (from eccodes>=0.9.8->cfgrib->climada) (0.0.2)\n",
            "Requirement already satisfied: importlib-metadata in /usr/local/lib/python3.9/dist-packages (from fiona>=1.8->geopandas->climada) (6.1.0)\n",
            "Requirement already satisfied: munch>=2.3.2 in /usr/local/lib/python3.9/dist-packages (from fiona>=1.8->geopandas->climada) (2.5.0)\n",
            "Requirement already satisfied: zipp>=3.1.0 in /usr/local/lib/python3.9/dist-packages (from importlib-resources>=3.2.0->matplotlib->climada) (3.15.0)\n",
            "Requirement already satisfied: locket in /usr/local/lib/python3.9/dist-packages (from partd>=0.3.10->dask->climada) (1.0.0)\n",
            "Requirement already satisfied: six in /usr/local/lib/python3.9/dist-packages (from patsy>=0.5.2->statsmodels->climada) (1.16.0)\n",
            "Requirement already satisfied: idna<4,>=2.5 in /usr/local/lib/python3.9/dist-packages (from requests->contextily->climada) (3.4)\n",
            "Requirement already satisfied: charset-normalizer~=2.0.0 in /usr/local/lib/python3.9/dist-packages (from requests->contextily->climada) (2.0.12)\n",
            "Requirement already satisfied: urllib3<1.27,>=1.21.1 in /usr/local/lib/python3.9/dist-packages (from requests->contextily->climada) (1.26.15)\n",
            "Requirement already satisfied: geographiclib<3,>=1.52 in /usr/local/lib/python3.9/dist-packages (from geopy->contextily->climada) (2.0)\n",
            "Requirement already satisfied: pycparser in /usr/local/lib/python3.9/dist-packages (from cffi->eccodes>=0.9.8->cfgrib->climada) (2.21)\n"
          ]
        },
        {
          "output_type": "error",
          "ename": "ImportError",
          "evalue": "ignored",
          "traceback": [
            "\u001b[0;31m---------------------------------------------------------------------------\u001b[0m",
            "\u001b[0;31mImportError\u001b[0m                               Traceback (most recent call last)",
            "\u001b[0;32m<ipython-input-11-d40ac274586d>\u001b[0m in \u001b[0;36m<module>\u001b[0;34m\u001b[0m\n\u001b[1;32m      1\u001b[0m \u001b[0mget_ipython\u001b[0m\u001b[0;34m(\u001b[0m\u001b[0;34m)\u001b[0m\u001b[0;34m.\u001b[0m\u001b[0msystem\u001b[0m\u001b[0;34m(\u001b[0m\u001b[0;34m'pip install --upgrade climada'\u001b[0m\u001b[0;34m)\u001b[0m\u001b[0;34m\u001b[0m\u001b[0;34m\u001b[0m\u001b[0m\n\u001b[1;32m      2\u001b[0m \u001b[0;32mimport\u001b[0m \u001b[0mclimada\u001b[0m\u001b[0;34m\u001b[0m\u001b[0;34m\u001b[0m\u001b[0m\n\u001b[0;32m----> 3\u001b[0;31m \u001b[0;32mfrom\u001b[0m \u001b[0mclimada\u001b[0m\u001b[0;34m.\u001b[0m\u001b[0mutil\u001b[0m\u001b[0;34m.\u001b[0m\u001b[0mconstants\u001b[0m \u001b[0;32mimport\u001b[0m \u001b[0mSECONDS_PER_DAY\u001b[0m\u001b[0;34m\u001b[0m\u001b[0;34m\u001b[0m\u001b[0m\n\u001b[0m\u001b[1;32m      4\u001b[0m \u001b[0;32mfrom\u001b[0m \u001b[0mclimada\u001b[0m\u001b[0;34m.\u001b[0m\u001b[0mengine\u001b[0m \u001b[0;32mimport\u001b[0m \u001b[0mImpact\u001b[0m\u001b[0;34m\u001b[0m\u001b[0;34m\u001b[0m\u001b[0m\n\u001b[1;32m      5\u001b[0m \u001b[0;34m\u001b[0m\u001b[0m\n",
            "\u001b[0;31mImportError\u001b[0m: cannot import name 'SECONDS_PER_DAY' from 'climada.util.constants' (/usr/local/lib/python3.9/dist-packages/climada/util/constants.py)",
            "",
            "\u001b[0;31m---------------------------------------------------------------------------\u001b[0;32m\nNOTE: If your import is failing due to a missing package, you can\nmanually install dependencies using either !pip or !apt.\n\nTo view examples of installing some common dependencies, click the\n\"Open Examples\" button below.\n\u001b[0;31m---------------------------------------------------------------------------\u001b[0m\n"
          ],
          "errorDetails": {
            "actions": [
              {
                "action": "open_url",
                "actionText": "Open Examples",
                "url": "/notebooks/snippets/importing_libraries.ipynb"
              }
            ]
          }
        }
      ]
    },
    {
      "cell_type": "code",
      "source": [
        "df.to_csv('Data.csv')\n",
        "files.download('Data.csv')"
      ],
      "metadata": {
        "colab": {
          "base_uri": "https://localhost:8080/",
          "height": 17
        },
        "id": "1EZg3pShD_MN",
        "outputId": "cacd3034-2956-42ee-9e96-7d3e241d3149"
      },
      "execution_count": 6,
      "outputs": [
        {
          "output_type": "display_data",
          "data": {
            "text/plain": [
              "<IPython.core.display.Javascript object>"
            ],
            "application/javascript": [
              "\n",
              "    async function download(id, filename, size) {\n",
              "      if (!google.colab.kernel.accessAllowed) {\n",
              "        return;\n",
              "      }\n",
              "      const div = document.createElement('div');\n",
              "      const label = document.createElement('label');\n",
              "      label.textContent = `Downloading \"${filename}\": `;\n",
              "      div.appendChild(label);\n",
              "      const progress = document.createElement('progress');\n",
              "      progress.max = size;\n",
              "      div.appendChild(progress);\n",
              "      document.body.appendChild(div);\n",
              "\n",
              "      const buffers = [];\n",
              "      let downloaded = 0;\n",
              "\n",
              "      const channel = await google.colab.kernel.comms.open(id);\n",
              "      // Send a message to notify the kernel that we're ready.\n",
              "      channel.send({})\n",
              "\n",
              "      for await (const message of channel.messages) {\n",
              "        // Send a message to notify the kernel that we're ready.\n",
              "        channel.send({})\n",
              "        if (message.buffers) {\n",
              "          for (const buffer of message.buffers) {\n",
              "            buffers.push(buffer);\n",
              "            downloaded += buffer.byteLength;\n",
              "            progress.value = downloaded;\n",
              "          }\n",
              "        }\n",
              "      }\n",
              "      const blob = new Blob(buffers, {type: 'application/binary'});\n",
              "      const a = document.createElement('a');\n",
              "      a.href = window.URL.createObjectURL(blob);\n",
              "      a.download = filename;\n",
              "      div.appendChild(a);\n",
              "      a.click();\n",
              "      div.remove();\n",
              "    }\n",
              "  "
            ]
          },
          "metadata": {}
        },
        {
          "output_type": "display_data",
          "data": {
            "text/plain": [
              "<IPython.core.display.Javascript object>"
            ],
            "application/javascript": [
              "download(\"download_0dec80f3-ed15-4fe8-8463-d4717cfe25f7\", \"Data.csv\", 78604695)"
            ]
          },
          "metadata": {}
        }
      ]
    }
  ]
}