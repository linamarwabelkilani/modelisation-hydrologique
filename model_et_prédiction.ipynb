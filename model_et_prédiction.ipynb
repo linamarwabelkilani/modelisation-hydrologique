{
  "nbformat": 4,
  "nbformat_minor": 0,
  "metadata": {
    "colab": {
      "provenance": [],
      "authorship_tag": "ABX9TyNiTOV2N/dNaSjNT3DAMxPf",
      "include_colab_link": true
    },
    "kernelspec": {
      "name": "python3",
      "display_name": "Python 3"
    },
    "language_info": {
      "name": "python"
    }
  },
  "cells": [
    {
      "cell_type": "markdown",
      "metadata": {
        "id": "view-in-github",
        "colab_type": "text"
      },
      "source": [
        "<a href=\"https://colab.research.google.com/github/linamarwabelkilani/modelisation-hydrologique/blob/main/model_et_pr%C3%A9diction.ipynb\" target=\"_parent\"><img src=\"https://colab.research.google.com/assets/colab-badge.svg\" alt=\"Open In Colab\"/></a>"
      ]
    },
    {
      "cell_type": "code",
      "execution_count": 70,
      "metadata": {
        "id": "QO4-H3D-QdEX"
      },
      "outputs": [],
      "source": [
        "#importing liibrarys \n",
        "import pandas as pd\n",
        "import matplotlib.pyplot as plt\n",
        "import seaborn as sns\n",
        "import numpy as np\n",
        "from google.colab import files\n",
        "from numpy import log as ln\n",
        "import tensorflow as tf\n",
        "from tensorflow import keras\n",
        "import tensorflow_probability as tfp\n",
        "\n",
        "from sklearn.model_selection  import train_test_split\n",
        "# Keras specific\n",
        "import keras\n",
        "from keras.models import Sequential\n",
        "from keras.layers import Dense"
      ]
    },
    {
      "cell_type": "code",
      "source": [
        "#import dataset from github\n",
        "data_url = \"https://raw.githubusercontent.com/linamarwabelkilani/modelisation-hydrologique/main/Data%20.csv\"\n",
        "df = pd.read_csv(data_url, on_bad_lines='skip',sep=\",\",index_col=None)\n",
        "df"
      ],
      "metadata": {
        "colab": {
          "base_uri": "https://localhost:8080/",
          "height": 424
        },
        "id": "4wv2iOFWQp2F",
        "outputId": "787bea0a-24ea-4a13-ed81-07ecf6c555c5"
      },
      "execution_count": 42,
      "outputs": [
        {
          "output_type": "execute_result",
          "data": {
            "text/plain": [
              "       range  Precipitation  Hazen frequency  Parametre de  gumbel(u)\n",
              "0          1       0.000000         0.000012                -2.428721\n",
              "1          2       0.000000         0.000036                -2.326863\n",
              "2          3       0.000000         0.000059                -2.275720\n",
              "3          4       0.000000         0.000083                -2.240545\n",
              "4          5       0.000000         0.000107                -2.213441\n",
              "...      ...            ...              ...                      ...\n",
              "42239  42240     250.000000         0.999893                 9.147087\n",
              "42240  42241     300.000000         0.999917                 9.398413\n",
              "42241  42242     316.799988         0.999941                 9.734897\n",
              "42242  42243     335.000000         0.999964                10.245735\n",
              "42243  42244     800.000000         0.999988                11.344359\n",
              "\n",
              "[42244 rows x 4 columns]"
            ],
            "text/html": [
              "\n",
              "  <div id=\"df-e8ac9fa2-cf34-4dd4-9300-d7fbd1a0b386\">\n",
              "    <div class=\"colab-df-container\">\n",
              "      <div>\n",
              "<style scoped>\n",
              "    .dataframe tbody tr th:only-of-type {\n",
              "        vertical-align: middle;\n",
              "    }\n",
              "\n",
              "    .dataframe tbody tr th {\n",
              "        vertical-align: top;\n",
              "    }\n",
              "\n",
              "    .dataframe thead th {\n",
              "        text-align: right;\n",
              "    }\n",
              "</style>\n",
              "<table border=\"1\" class=\"dataframe\">\n",
              "  <thead>\n",
              "    <tr style=\"text-align: right;\">\n",
              "      <th></th>\n",
              "      <th>range</th>\n",
              "      <th>Precipitation</th>\n",
              "      <th>Hazen frequency</th>\n",
              "      <th>Parametre de  gumbel(u)</th>\n",
              "    </tr>\n",
              "  </thead>\n",
              "  <tbody>\n",
              "    <tr>\n",
              "      <th>0</th>\n",
              "      <td>1</td>\n",
              "      <td>0.000000</td>\n",
              "      <td>0.000012</td>\n",
              "      <td>-2.428721</td>\n",
              "    </tr>\n",
              "    <tr>\n",
              "      <th>1</th>\n",
              "      <td>2</td>\n",
              "      <td>0.000000</td>\n",
              "      <td>0.000036</td>\n",
              "      <td>-2.326863</td>\n",
              "    </tr>\n",
              "    <tr>\n",
              "      <th>2</th>\n",
              "      <td>3</td>\n",
              "      <td>0.000000</td>\n",
              "      <td>0.000059</td>\n",
              "      <td>-2.275720</td>\n",
              "    </tr>\n",
              "    <tr>\n",
              "      <th>3</th>\n",
              "      <td>4</td>\n",
              "      <td>0.000000</td>\n",
              "      <td>0.000083</td>\n",
              "      <td>-2.240545</td>\n",
              "    </tr>\n",
              "    <tr>\n",
              "      <th>4</th>\n",
              "      <td>5</td>\n",
              "      <td>0.000000</td>\n",
              "      <td>0.000107</td>\n",
              "      <td>-2.213441</td>\n",
              "    </tr>\n",
              "    <tr>\n",
              "      <th>...</th>\n",
              "      <td>...</td>\n",
              "      <td>...</td>\n",
              "      <td>...</td>\n",
              "      <td>...</td>\n",
              "    </tr>\n",
              "    <tr>\n",
              "      <th>42239</th>\n",
              "      <td>42240</td>\n",
              "      <td>250.000000</td>\n",
              "      <td>0.999893</td>\n",
              "      <td>9.147087</td>\n",
              "    </tr>\n",
              "    <tr>\n",
              "      <th>42240</th>\n",
              "      <td>42241</td>\n",
              "      <td>300.000000</td>\n",
              "      <td>0.999917</td>\n",
              "      <td>9.398413</td>\n",
              "    </tr>\n",
              "    <tr>\n",
              "      <th>42241</th>\n",
              "      <td>42242</td>\n",
              "      <td>316.799988</td>\n",
              "      <td>0.999941</td>\n",
              "      <td>9.734897</td>\n",
              "    </tr>\n",
              "    <tr>\n",
              "      <th>42242</th>\n",
              "      <td>42243</td>\n",
              "      <td>335.000000</td>\n",
              "      <td>0.999964</td>\n",
              "      <td>10.245735</td>\n",
              "    </tr>\n",
              "    <tr>\n",
              "      <th>42243</th>\n",
              "      <td>42244</td>\n",
              "      <td>800.000000</td>\n",
              "      <td>0.999988</td>\n",
              "      <td>11.344359</td>\n",
              "    </tr>\n",
              "  </tbody>\n",
              "</table>\n",
              "<p>42244 rows × 4 columns</p>\n",
              "</div>\n",
              "      <button class=\"colab-df-convert\" onclick=\"convertToInteractive('df-e8ac9fa2-cf34-4dd4-9300-d7fbd1a0b386')\"\n",
              "              title=\"Convert this dataframe to an interactive table.\"\n",
              "              style=\"display:none;\">\n",
              "        \n",
              "  <svg xmlns=\"http://www.w3.org/2000/svg\" height=\"24px\"viewBox=\"0 0 24 24\"\n",
              "       width=\"24px\">\n",
              "    <path d=\"M0 0h24v24H0V0z\" fill=\"none\"/>\n",
              "    <path d=\"M18.56 5.44l.94 2.06.94-2.06 2.06-.94-2.06-.94-.94-2.06-.94 2.06-2.06.94zm-11 1L8.5 8.5l.94-2.06 2.06-.94-2.06-.94L8.5 2.5l-.94 2.06-2.06.94zm10 10l.94 2.06.94-2.06 2.06-.94-2.06-.94-.94-2.06-.94 2.06-2.06.94z\"/><path d=\"M17.41 7.96l-1.37-1.37c-.4-.4-.92-.59-1.43-.59-.52 0-1.04.2-1.43.59L10.3 9.45l-7.72 7.72c-.78.78-.78 2.05 0 2.83L4 21.41c.39.39.9.59 1.41.59.51 0 1.02-.2 1.41-.59l7.78-7.78 2.81-2.81c.8-.78.8-2.07 0-2.86zM5.41 20L4 18.59l7.72-7.72 1.47 1.35L5.41 20z\"/>\n",
              "  </svg>\n",
              "      </button>\n",
              "      \n",
              "  <style>\n",
              "    .colab-df-container {\n",
              "      display:flex;\n",
              "      flex-wrap:wrap;\n",
              "      gap: 12px;\n",
              "    }\n",
              "\n",
              "    .colab-df-convert {\n",
              "      background-color: #E8F0FE;\n",
              "      border: none;\n",
              "      border-radius: 50%;\n",
              "      cursor: pointer;\n",
              "      display: none;\n",
              "      fill: #1967D2;\n",
              "      height: 32px;\n",
              "      padding: 0 0 0 0;\n",
              "      width: 32px;\n",
              "    }\n",
              "\n",
              "    .colab-df-convert:hover {\n",
              "      background-color: #E2EBFA;\n",
              "      box-shadow: 0px 1px 2px rgba(60, 64, 67, 0.3), 0px 1px 3px 1px rgba(60, 64, 67, 0.15);\n",
              "      fill: #174EA6;\n",
              "    }\n",
              "\n",
              "    [theme=dark] .colab-df-convert {\n",
              "      background-color: #3B4455;\n",
              "      fill: #D2E3FC;\n",
              "    }\n",
              "\n",
              "    [theme=dark] .colab-df-convert:hover {\n",
              "      background-color: #434B5C;\n",
              "      box-shadow: 0px 1px 3px 1px rgba(0, 0, 0, 0.15);\n",
              "      filter: drop-shadow(0px 1px 2px rgba(0, 0, 0, 0.3));\n",
              "      fill: #FFFFFF;\n",
              "    }\n",
              "  </style>\n",
              "\n",
              "      <script>\n",
              "        const buttonEl =\n",
              "          document.querySelector('#df-e8ac9fa2-cf34-4dd4-9300-d7fbd1a0b386 button.colab-df-convert');\n",
              "        buttonEl.style.display =\n",
              "          google.colab.kernel.accessAllowed ? 'block' : 'none';\n",
              "\n",
              "        async function convertToInteractive(key) {\n",
              "          const element = document.querySelector('#df-e8ac9fa2-cf34-4dd4-9300-d7fbd1a0b386');\n",
              "          const dataTable =\n",
              "            await google.colab.kernel.invokeFunction('convertToInteractive',\n",
              "                                                     [key], {});\n",
              "          if (!dataTable) return;\n",
              "\n",
              "          const docLinkHtml = 'Like what you see? Visit the ' +\n",
              "            '<a target=\"_blank\" href=https://colab.research.google.com/notebooks/data_table.ipynb>data table notebook</a>'\n",
              "            + ' to learn more about interactive tables.';\n",
              "          element.innerHTML = '';\n",
              "          dataTable['output_type'] = 'display_data';\n",
              "          await google.colab.output.renderOutput(dataTable, element);\n",
              "          const docLink = document.createElement('div');\n",
              "          docLink.innerHTML = docLinkHtml;\n",
              "          element.appendChild(docLink);\n",
              "        }\n",
              "      </script>\n",
              "    </div>\n",
              "  </div>\n",
              "  "
            ]
          },
          "metadata": {},
          "execution_count": 42
        }
      ]
    },
    {
      "cell_type": "code",
      "source": [
        "#preparing data\n",
        "x=df[\"Parametre de  gumbel(u)\"].values\n",
        "y=df[\"Precipitation\"].values\n",
        "\n",
        "\n",
        "x_train, x_test, y_train, y_test = train_test_split(x, y, test_size=0.2)\n",
        "\n",
        "x_train=x_train.reshape(-1, 1)\n",
        "y_train=y_train.reshape(-1, 1)\n"
      ],
      "metadata": {
        "colab": {
          "base_uri": "https://localhost:8080/"
        },
        "id": "gw9YfH8IRoPF",
        "outputId": "ec293974-3fde-4b41-c0c6-c4aa39e57832"
      },
      "execution_count": 44,
      "outputs": [
        {
          "output_type": "execute_result",
          "data": {
            "text/plain": [
              "array([[ 1.76499921],\n",
              "       [ 4.35043085],\n",
              "       [ 1.24211929],\n",
              "       ...,\n",
              "       [-1.07006388],\n",
              "       [ 1.02503481],\n",
              "       [-0.16187155]])"
            ]
          },
          "metadata": {},
          "execution_count": 44
        }
      ]
    },
    {
      "cell_type": "code",
      "source": [
        "# Define model\n",
        "model = Sequential()\n",
        "model.add(Dense(1000, input_dim=1, activation= \"relu\"))\n",
        "model.add(Dense(100, activation= \"relu\"))\n",
        "model.add(Dense(50, activation= \"relu\"))\n",
        "model.add(Dense(10, activation= \"relu\"))\n",
        "model.add(Dense(1))\n",
        "        # Compile:\n",
        "model.compile(optimizer=\"adam\", loss=\"mean_squared_error\", metrics=['accuracy'])\n",
        "        # Train:\n",
        "model.fit(x_train,y_train, epochs=50,batch_size=32)"
      ],
      "metadata": {
        "colab": {
          "base_uri": "https://localhost:8080/"
        },
        "id": "qScYNFG2UULh",
        "outputId": "be235739-f551-48fe-bc8d-5c93885b78f3"
      },
      "execution_count": null,
      "outputs": [
        {
          "output_type": "stream",
          "name": "stdout",
          "text": [
            "Epoch 1/50\n",
            "1057/1057 [==============================] - 6s 5ms/step - loss: 28.7506 - accuracy: 0.1746\n",
            "Epoch 2/50\n",
            "1057/1057 [==============================] - 4s 4ms/step - loss: 10.3732 - accuracy: 0.1977\n",
            "Epoch 3/50\n",
            "1057/1057 [==============================] - 5s 4ms/step - loss: 9.9533 - accuracy: 0.2007\n",
            "Epoch 4/50\n",
            "1057/1057 [==============================] - 5s 4ms/step - loss: 10.3306 - accuracy: 0.1986\n",
            "Epoch 5/50\n",
            "1057/1057 [==============================] - 5s 4ms/step - loss: 9.3902 - accuracy: 0.2028\n",
            "Epoch 6/50\n",
            "1057/1057 [==============================] - 5s 4ms/step - loss: 10.9952 - accuracy: 0.2028\n",
            "Epoch 7/50\n",
            "1057/1057 [==============================] - 5s 5ms/step - loss: 10.5884 - accuracy: 0.2032\n",
            "Epoch 8/50\n",
            "  51/1057 [>.............................] - ETA: 4s - loss: 0.1573 - accuracy: 0.2151"
          ]
        }
      ]
    },
    {
      "cell_type": "code",
      "source": [
        "\t# Test the accuracy:\n",
        "print(\"Model Evaluation:\")\n",
        "test_loss, test_acc = model.evaluate(x_test, y_test) \n",
        "print(\"Evaluated Accuracy: \", test_acc)"
      ],
      "metadata": {
        "colab": {
          "base_uri": "https://localhost:8080/"
        },
        "id": "mhrvogozVq6v",
        "outputId": "26b48e95-f83a-4ba1-dc2c-9071aa01e563"
      },
      "execution_count": 81,
      "outputs": [
        {
          "output_type": "stream",
          "name": "stdout",
          "text": [
            "Model Evaluation:\n",
            "265/265 [==============================] - 1s 2ms/step - loss: 0.5351 - accuracy: 0.1978\n",
            "Evaluated Accuracy:  0.19777488708496094\n"
          ]
        }
      ]
    },
    {
      "cell_type": "code",
      "source": [
        "T=5\n",
        "#T=1/(1-f(x))\n",
        "#f(x) = (T-1)/T\n",
        "def Fn_F(T):\n",
        "  return (T-1)/T\n",
        "\n",
        "def FN_U(x):\n",
        "  return -ln(-ln(x))\n",
        "#determiner u\n",
        "U=FN_U(Fn_F(T))\n",
        "print(\"U = \",U)\n",
        "\n",
        "model.predict([U])"
      ],
      "metadata": {
        "colab": {
          "base_uri": "https://localhost:8080/"
        },
        "id": "eBg5gaYvaG_y",
        "outputId": "1a4822dc-2bbc-491c-d4b4-73bbb5d39dc1"
      },
      "execution_count": 90,
      "outputs": [
        {
          "output_type": "stream",
          "name": "stdout",
          "text": [
            "U =  1.4999399867595158\n"
          ]
        },
        {
          "output_type": "execute_result",
          "data": {
            "text/plain": [
              "array([[24.250423]], dtype=float32)"
            ]
          },
          "metadata": {},
          "execution_count": 90
        }
      ]
    }
  ]
}