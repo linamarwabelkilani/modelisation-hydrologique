{
  "nbformat": 4,
  "nbformat_minor": 0,
  "metadata": {
    "colab": {
      "name": "Untitled8.ipynb",
      "provenance": [],
      "authorship_tag": "ABX9TyNuA6QosE4Tjajk5yF+JSlk",
      "include_colab_link": true
    },
    "kernelspec": {
      "name": "python3",
      "display_name": "Python 3"
    },
    "language_info": {
      "name": "python"
    }
  },
  "cells": [
    {
      "cell_type": "markdown",
      "metadata": {
        "id": "view-in-github",
        "colab_type": "text"
      },
      "source": [
        "<a href=\"https://colab.research.google.com/github/linamarwabelkilani/modelisation-hydrologique/blob/main/model_machine.ipynb\" target=\"_parent\"><img src=\"https://colab.research.google.com/assets/colab-badge.svg\" alt=\"Open In Colab\"/></a>"
      ]
    },
    {
      "cell_type": "markdown",
      "source": [
        "Importation des données depuis github et preparation des types pour le model"
      ],
      "metadata": {
        "id": "v1tyISWM7_0W"
      }
    },
    {
      "cell_type": "code",
      "execution_count": 1,
      "metadata": {
        "colab": {
          "base_uri": "https://localhost:8080/",
          "height": 493
        },
        "id": "eLMMXOSr6v_J",
        "outputId": "5afdee89-d392-4114-e063-bc8ab62167d4"
      },
      "outputs": [
        {
          "output_type": "stream",
          "name": "stdout",
          "text": [
            "Date             datetime64[ns]\n",
            "Station                  string\n",
            "Precipitation           float64\n",
            "dtype: object\n"
          ]
        },
        {
          "output_type": "execute_result",
          "data": {
            "text/plain": [
              "              Date               Station  Precipitation\n",
              "0       1951-06-01  AIN BEYA OUED RHEZAL            0.0\n",
              "1       1951-06-02  AIN BEYA OUED RHEZAL            0.0\n",
              "2       1951-06-03  AIN BEYA OUED RHEZAL            0.0\n",
              "3       1951-06-04  AIN BEYA OUED RHEZAL            0.0\n",
              "4       1951-06-05  AIN BEYA OUED RHEZAL            0.0\n",
              "...            ...                   ...            ...\n",
              "2103688 2015-08-27         ZOUARINE GARE            3.0\n",
              "2103689 2015-08-28         ZOUARINE GARE            7.0\n",
              "2103690 2015-08-29         ZOUARINE GARE            0.0\n",
              "2103691 2015-08-30         ZOUARINE GARE            0.0\n",
              "2103692 2015-08-31         ZOUARINE GARE            0.0\n",
              "\n",
              "[2103693 rows x 3 columns]"
            ],
            "text/html": [
              "\n",
              "  <div id=\"df-9fd622f0-3fe9-4098-a5cf-0f79c2279a88\">\n",
              "    <div class=\"colab-df-container\">\n",
              "      <div>\n",
              "<style scoped>\n",
              "    .dataframe tbody tr th:only-of-type {\n",
              "        vertical-align: middle;\n",
              "    }\n",
              "\n",
              "    .dataframe tbody tr th {\n",
              "        vertical-align: top;\n",
              "    }\n",
              "\n",
              "    .dataframe thead th {\n",
              "        text-align: right;\n",
              "    }\n",
              "</style>\n",
              "<table border=\"1\" class=\"dataframe\">\n",
              "  <thead>\n",
              "    <tr style=\"text-align: right;\">\n",
              "      <th></th>\n",
              "      <th>Date</th>\n",
              "      <th>Station</th>\n",
              "      <th>Precipitation</th>\n",
              "    </tr>\n",
              "  </thead>\n",
              "  <tbody>\n",
              "    <tr>\n",
              "      <th>0</th>\n",
              "      <td>1951-06-01</td>\n",
              "      <td>AIN BEYA OUED RHEZAL</td>\n",
              "      <td>0.0</td>\n",
              "    </tr>\n",
              "    <tr>\n",
              "      <th>1</th>\n",
              "      <td>1951-06-02</td>\n",
              "      <td>AIN BEYA OUED RHEZAL</td>\n",
              "      <td>0.0</td>\n",
              "    </tr>\n",
              "    <tr>\n",
              "      <th>2</th>\n",
              "      <td>1951-06-03</td>\n",
              "      <td>AIN BEYA OUED RHEZAL</td>\n",
              "      <td>0.0</td>\n",
              "    </tr>\n",
              "    <tr>\n",
              "      <th>3</th>\n",
              "      <td>1951-06-04</td>\n",
              "      <td>AIN BEYA OUED RHEZAL</td>\n",
              "      <td>0.0</td>\n",
              "    </tr>\n",
              "    <tr>\n",
              "      <th>4</th>\n",
              "      <td>1951-06-05</td>\n",
              "      <td>AIN BEYA OUED RHEZAL</td>\n",
              "      <td>0.0</td>\n",
              "    </tr>\n",
              "    <tr>\n",
              "      <th>...</th>\n",
              "      <td>...</td>\n",
              "      <td>...</td>\n",
              "      <td>...</td>\n",
              "    </tr>\n",
              "    <tr>\n",
              "      <th>2103688</th>\n",
              "      <td>2015-08-27</td>\n",
              "      <td>ZOUARINE GARE</td>\n",
              "      <td>3.0</td>\n",
              "    </tr>\n",
              "    <tr>\n",
              "      <th>2103689</th>\n",
              "      <td>2015-08-28</td>\n",
              "      <td>ZOUARINE GARE</td>\n",
              "      <td>7.0</td>\n",
              "    </tr>\n",
              "    <tr>\n",
              "      <th>2103690</th>\n",
              "      <td>2015-08-29</td>\n",
              "      <td>ZOUARINE GARE</td>\n",
              "      <td>0.0</td>\n",
              "    </tr>\n",
              "    <tr>\n",
              "      <th>2103691</th>\n",
              "      <td>2015-08-30</td>\n",
              "      <td>ZOUARINE GARE</td>\n",
              "      <td>0.0</td>\n",
              "    </tr>\n",
              "    <tr>\n",
              "      <th>2103692</th>\n",
              "      <td>2015-08-31</td>\n",
              "      <td>ZOUARINE GARE</td>\n",
              "      <td>0.0</td>\n",
              "    </tr>\n",
              "  </tbody>\n",
              "</table>\n",
              "<p>2103693 rows × 3 columns</p>\n",
              "</div>\n",
              "      <button class=\"colab-df-convert\" onclick=\"convertToInteractive('df-9fd622f0-3fe9-4098-a5cf-0f79c2279a88')\"\n",
              "              title=\"Convert this dataframe to an interactive table.\"\n",
              "              style=\"display:none;\">\n",
              "        \n",
              "  <svg xmlns=\"http://www.w3.org/2000/svg\" height=\"24px\"viewBox=\"0 0 24 24\"\n",
              "       width=\"24px\">\n",
              "    <path d=\"M0 0h24v24H0V0z\" fill=\"none\"/>\n",
              "    <path d=\"M18.56 5.44l.94 2.06.94-2.06 2.06-.94-2.06-.94-.94-2.06-.94 2.06-2.06.94zm-11 1L8.5 8.5l.94-2.06 2.06-.94-2.06-.94L8.5 2.5l-.94 2.06-2.06.94zm10 10l.94 2.06.94-2.06 2.06-.94-2.06-.94-.94-2.06-.94 2.06-2.06.94z\"/><path d=\"M17.41 7.96l-1.37-1.37c-.4-.4-.92-.59-1.43-.59-.52 0-1.04.2-1.43.59L10.3 9.45l-7.72 7.72c-.78.78-.78 2.05 0 2.83L4 21.41c.39.39.9.59 1.41.59.51 0 1.02-.2 1.41-.59l7.78-7.78 2.81-2.81c.8-.78.8-2.07 0-2.86zM5.41 20L4 18.59l7.72-7.72 1.47 1.35L5.41 20z\"/>\n",
              "  </svg>\n",
              "      </button>\n",
              "      \n",
              "  <style>\n",
              "    .colab-df-container {\n",
              "      display:flex;\n",
              "      flex-wrap:wrap;\n",
              "      gap: 12px;\n",
              "    }\n",
              "\n",
              "    .colab-df-convert {\n",
              "      background-color: #E8F0FE;\n",
              "      border: none;\n",
              "      border-radius: 50%;\n",
              "      cursor: pointer;\n",
              "      display: none;\n",
              "      fill: #1967D2;\n",
              "      height: 32px;\n",
              "      padding: 0 0 0 0;\n",
              "      width: 32px;\n",
              "    }\n",
              "\n",
              "    .colab-df-convert:hover {\n",
              "      background-color: #E2EBFA;\n",
              "      box-shadow: 0px 1px 2px rgba(60, 64, 67, 0.3), 0px 1px 3px 1px rgba(60, 64, 67, 0.15);\n",
              "      fill: #174EA6;\n",
              "    }\n",
              "\n",
              "    [theme=dark] .colab-df-convert {\n",
              "      background-color: #3B4455;\n",
              "      fill: #D2E3FC;\n",
              "    }\n",
              "\n",
              "    [theme=dark] .colab-df-convert:hover {\n",
              "      background-color: #434B5C;\n",
              "      box-shadow: 0px 1px 3px 1px rgba(0, 0, 0, 0.15);\n",
              "      filter: drop-shadow(0px 1px 2px rgba(0, 0, 0, 0.3));\n",
              "      fill: #FFFFFF;\n",
              "    }\n",
              "  </style>\n",
              "\n",
              "      <script>\n",
              "        const buttonEl =\n",
              "          document.querySelector('#df-9fd622f0-3fe9-4098-a5cf-0f79c2279a88 button.colab-df-convert');\n",
              "        buttonEl.style.display =\n",
              "          google.colab.kernel.accessAllowed ? 'block' : 'none';\n",
              "\n",
              "        async function convertToInteractive(key) {\n",
              "          const element = document.querySelector('#df-9fd622f0-3fe9-4098-a5cf-0f79c2279a88');\n",
              "          const dataTable =\n",
              "            await google.colab.kernel.invokeFunction('convertToInteractive',\n",
              "                                                     [key], {});\n",
              "          if (!dataTable) return;\n",
              "\n",
              "          const docLinkHtml = 'Like what you see? Visit the ' +\n",
              "            '<a target=\"_blank\" href=https://colab.research.google.com/notebooks/data_table.ipynb>data table notebook</a>'\n",
              "            + ' to learn more about interactive tables.';\n",
              "          element.innerHTML = '';\n",
              "          dataTable['output_type'] = 'display_data';\n",
              "          await google.colab.output.renderOutput(dataTable, element);\n",
              "          const docLink = document.createElement('div');\n",
              "          docLink.innerHTML = docLinkHtml;\n",
              "          element.appendChild(docLink);\n",
              "        }\n",
              "      </script>\n",
              "    </div>\n",
              "  </div>\n",
              "  "
            ]
          },
          "metadata": {},
          "execution_count": 1
        }
      ],
      "source": [
        "#import dataset from github\n",
        "import pandas as pd\n",
        "data_url = \"https://raw.githubusercontent.com/linamarwabelkilani/modelisation-hydrologique/main/Dataset.csv\"\n",
        "df = pd.read_csv(data_url, on_bad_lines='skip',sep=\";\")\n",
        "\n",
        "\n",
        "df['Station']=df['Station'].astype(str)\n",
        "df = df.astype({'Station':'string'})\n",
        "df = df.astype({'Date':'string'})\n",
        "df['Date'] = pd.to_datetime(df['Date'],dayfirst=True,errors='coerce')\n",
        "df = df.dropna()\n",
        "print(df.dtypes)\n",
        "df"
      ]
    },
    {
      "cell_type": "markdown",
      "source": [
        "preparation de model "
      ],
      "metadata": {
        "id": "ubo_GlcW8vcv"
      }
    },
    {
      "cell_type": "code",
      "source": [
        "import tensorflow as tf\n",
        "from tensorflow import keras\n",
        "import numpy as np\n",
        "\n",
        "#creating model\n",
        "model = tf.keras.Sequential([keras.layers.Dense(units=1, input_shape=[1])])\n",
        "\n",
        "x=df[\"Date\"][:100000]\n",
        "y=df[\"Precipitation\"][:100000]\n",
        "\n",
        "x_train = np.asarray(x).astype(np.float)\n",
        "y_train = np.asarray(y).astype(np.float)\n",
        "\n",
        "model.compile(optimizer='sgd', loss='mean_squared_error')\n",
        "\n",
        "#train the model\n",
        "model.fit(x_train, y_train, epochs=10)\n",
        "\n",
        "\n"
      ],
      "metadata": {
        "colab": {
          "base_uri": "https://localhost:8080/"
        },
        "id": "zlQ2nFfQ7_TM",
        "outputId": "216064eb-53f2-46e5-afaf-eedec3ecf99e"
      },
      "execution_count": 5,
      "outputs": [
        {
          "output_type": "stream",
          "name": "stdout",
          "text": [
            "Epoch 1/10\n"
          ]
        },
        {
          "output_type": "stream",
          "name": "stderr",
          "text": [
            "/usr/local/lib/python3.7/dist-packages/ipykernel_launcher.py:11: DeprecationWarning: `np.float` is a deprecated alias for the builtin `float`. To silence this warning, use `float` by itself. Doing this will not modify any behavior and is safe. If you specifically wanted the numpy scalar type, use `np.float64` here.\n",
            "Deprecated in NumPy 1.20; for more details and guidance: https://numpy.org/devdocs/release/1.20.0-notes.html#deprecations\n",
            "  # This is added back by InteractiveShellApp.init_path()\n",
            "/usr/local/lib/python3.7/dist-packages/ipykernel_launcher.py:12: DeprecationWarning: `np.float` is a deprecated alias for the builtin `float`. To silence this warning, use `float` by itself. Doing this will not modify any behavior and is safe. If you specifically wanted the numpy scalar type, use `np.float64` here.\n",
            "Deprecated in NumPy 1.20; for more details and guidance: https://numpy.org/devdocs/release/1.20.0-notes.html#deprecations\n",
            "  if sys.path[0] == '':\n"
          ]
        },
        {
          "output_type": "stream",
          "name": "stdout",
          "text": [
            "3125/3125 [==============================] - 7s 2ms/step - loss: nan\n",
            "Epoch 2/10\n",
            "3125/3125 [==============================] - 4s 1ms/step - loss: nan\n",
            "Epoch 3/10\n",
            "3125/3125 [==============================] - 4s 1ms/step - loss: nan\n",
            "Epoch 4/10\n",
            "3125/3125 [==============================] - 4s 1ms/step - loss: nan\n",
            "Epoch 5/10\n",
            "3125/3125 [==============================] - 4s 1ms/step - loss: nan\n",
            "Epoch 6/10\n",
            "3125/3125 [==============================] - 4s 1ms/step - loss: nan\n",
            "Epoch 7/10\n",
            "3125/3125 [==============================] - 4s 1ms/step - loss: nan\n",
            "Epoch 8/10\n",
            "3125/3125 [==============================] - 4s 1ms/step - loss: nan\n",
            "Epoch 9/10\n",
            "3125/3125 [==============================] - 4s 1ms/step - loss: nan\n",
            "Epoch 10/10\n",
            "3125/3125 [==============================] - 4s 1ms/step - loss: nan\n"
          ]
        },
        {
          "output_type": "execute_result",
          "data": {
            "text/plain": [
              "<keras.callbacks.History at 0x7f78f7346710>"
            ]
          },
          "metadata": {},
          "execution_count": 5
        }
      ]
    },
    {
      "cell_type": "code",
      "source": [
        "#Using Model\n",
        "x_test = np.asarray(df[\"Date\"][100000:1000010]).astype(np.float32)\n",
        "print(model.predict(x_test))"
      ],
      "metadata": {
        "colab": {
          "base_uri": "https://localhost:8080/"
        },
        "id": "9TW3QPCO-X43",
        "outputId": "1d16930d-a19a-42c7-cabe-b5c48b55ee21"
      },
      "execution_count": 4,
      "outputs": [
        {
          "output_type": "stream",
          "name": "stdout",
          "text": [
            "[[nan]\n",
            " [nan]\n",
            " [nan]\n",
            " ...\n",
            " [nan]\n",
            " [nan]\n",
            " [nan]]\n"
          ]
        }
      ]
    }
  ]
}